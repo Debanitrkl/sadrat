{
 "cells": [
  {
   "cell_type": "code",
   "execution_count": 1,
   "metadata": {},
   "outputs": [],
   "source": [
    "import pandas as pd\n",
    "import pickle\n",
    "import sys\n",
    "sys.path.append('/Users/jarvis/Desktop/CODE/sadrat/')\n",
    "\n",
    "from scrapers.helpers import Preprocessing"
   ]
  },
  {
   "cell_type": "code",
   "execution_count": 3,
   "metadata": {},
   "outputs": [],
   "source": [
    "df = pd.read_csv(\"/Users/jarvis/Desktop/CODE/sadrat/sample/medications_dot_com_data.csv\")"
   ]
  },
  {
   "cell_type": "code",
   "execution_count": 4,
   "metadata": {
    "scrolled": true
   },
   "outputs": [
    {
     "data": {
      "text/html": [
       "<div>\n",
       "<style scoped>\n",
       "    .dataframe tbody tr th:only-of-type {\n",
       "        vertical-align: middle;\n",
       "    }\n",
       "\n",
       "    .dataframe tbody tr th {\n",
       "        vertical-align: top;\n",
       "    }\n",
       "\n",
       "    .dataframe thead th {\n",
       "        text-align: right;\n",
       "    }\n",
       "</style>\n",
       "<table border=\"1\" class=\"dataframe\">\n",
       "  <thead>\n",
       "    <tr style=\"text-align: right;\">\n",
       "      <th></th>\n",
       "      <th>id</th>\n",
       "      <th>drugname</th>\n",
       "      <th>comment</th>\n",
       "    </tr>\n",
       "  </thead>\n",
       "  <tbody>\n",
       "    <tr>\n",
       "      <th>0</th>\n",
       "      <td>0</td>\n",
       "      <td>levaquin</td>\n",
       "      <td>ive been allergic to many antibiotics since I ...</td>\n",
       "    </tr>\n",
       "    <tr>\n",
       "      <th>1</th>\n",
       "      <td>1</td>\n",
       "      <td>levaquin</td>\n",
       "      <td>Was prescribed leviquin for sinus.  Took dose ...</td>\n",
       "    </tr>\n",
       "    <tr>\n",
       "      <th>2</th>\n",
       "      <td>2</td>\n",
       "      <td>levaquin</td>\n",
       "      <td>Been reading the blog - thank God.  Thank God ...</td>\n",
       "    </tr>\n",
       "    <tr>\n",
       "      <th>3</th>\n",
       "      <td>3</td>\n",
       "      <td>levaquin</td>\n",
       "      <td>1/14/2012. I was given Levaquin and two steroi...</td>\n",
       "    </tr>\n",
       "    <tr>\n",
       "      <th>4</th>\n",
       "      <td>4</td>\n",
       "      <td>levaquin</td>\n",
       "      <td>today was my 3rd day of taking levaquin. i suf...</td>\n",
       "    </tr>\n",
       "  </tbody>\n",
       "</table>\n",
       "</div>"
      ],
      "text/plain": [
       "   id  drugname                                            comment\n",
       "0   0  levaquin  ive been allergic to many antibiotics since I ...\n",
       "1   1  levaquin  Was prescribed leviquin for sinus.  Took dose ...\n",
       "2   2  levaquin  Been reading the blog - thank God.  Thank God ...\n",
       "3   3  levaquin  1/14/2012. I was given Levaquin and two steroi...\n",
       "4   4  levaquin  today was my 3rd day of taking levaquin. i suf..."
      ]
     },
     "execution_count": 4,
     "metadata": {},
     "output_type": "execute_result"
    }
   ],
   "source": [
    "df.head()"
   ]
  },
  {
   "cell_type": "code",
   "execution_count": 5,
   "metadata": {},
   "outputs": [
    {
     "data": {
      "text/plain": [
       "'During the last 1 1/2 years, I have suffered severe hearing loss, first my right ear and now my left.  I have regained perhaps 50-60% hearing in my right ear but a few days ago the same symptons reappeared and within 5 days I have lost all hearing in my\\xa0... more »During the last 1 1/2 years, I have suffered severe hearing loss, first my right ear and now my left.  I have regained perhaps 50-60% hearing in my right ear but a few days ago the same symptons reappeared and within 5 days I have lost all hearing in my left ear!\\nI am currently taking prednisone for 7 days.\\nHas anyone else experienced hearing loss which they attribute to the use of warfarin (coumaden?)  I am desperate for information that might lead me to some sort of enlightenment I could build on.\\nKen'"
      ]
     },
     "execution_count": 5,
     "metadata": {},
     "output_type": "execute_result"
    }
   ],
   "source": [
    "#looking at the comments to have an intuition for labelling functions\n",
    "#PLEASE NOTE THAT I MADE A SILLY MISTAKE WHILE NAMING MY COLUMN IN THE DATASET, THERE'S A SPACE BEFORE \n",
    "# \"comment\" AND \"drugname\". WRITE IT AS \" comment\" and \" drugname\". \n",
    "df[\" comment\"][100]"
   ]
  },
  {
   "cell_type": "markdown",
   "metadata": {},
   "source": [
    "### Getting the dictionary of drugs and their known side effects scraped from drugs.com website."
   ]
  },
  {
   "cell_type": "code",
   "execution_count": 6,
   "metadata": {},
   "outputs": [],
   "source": [
    "with open(\"/Users/jarvis/Desktop/CODE/sadrat/datasets/drug_adr\", \"rb\") as file:\n",
    "    drugs = pickle.load(file)\n",
    "file.close()"
   ]
  },
  {
   "cell_type": "markdown",
   "metadata": {},
   "source": [
    "# Labelling Functions"
   ]
  },
  {
   "cell_type": "code",
   "execution_count": 4,
   "metadata": {},
   "outputs": [],
   "source": [
    "from snorkel.labeling import labeling_function"
   ]
  },
  {
   "cell_type": "markdown",
   "metadata": {},
   "source": [
    "## LF1: Sentiment Analysis\n",
    "The ADRs are usually written with a negative tone so starting with sentiment analysis as the first labelling function is a good start : )"
   ]
  },
  {
   "cell_type": "code",
   "execution_count": 1,
   "metadata": {},
   "outputs": [],
   "source": [
    "from snorkel.preprocess import preprocessor\n",
    "from textblob import TextBlob"
   ]
  },
  {
   "cell_type": "code",
   "execution_count": 35,
   "metadata": {},
   "outputs": [
    {
     "name": "stderr",
     "output_type": "stream",
     "text": [
      "Matplotlib is building the font cache using fc-list. This may take a moment.\n"
     ]
    }
   ],
   "source": [
    "import matplotlib.pyplot as plt"
   ]
  },
  {
   "cell_type": "code",
   "execution_count": 26,
   "metadata": {},
   "outputs": [],
   "source": [
    "@preprocessor(memoize=True)\n",
    "# type(x) - pandas Series\n",
    "def textblob_sentiment(x):\n",
    "    scores = TextBlob(x[\" comment\"])\n",
    "    x.polarity = scores.sentiment.polarity\n",
    "    x.subjectivity = scores.sentiment.subjectivity\n",
    "    return x"
   ]
  },
  {
   "cell_type": "code",
   "execution_count": 33,
   "metadata": {},
   "outputs": [],
   "source": [
    "comment_polarities = [textblob_sentiment(x).polarity for _, x in df.iterrows()]\n",
    "comment_subjectivities = [textblob_sentiment(x).subjectivity for _, x in df.iterrows()]"
   ]
  },
  {
   "cell_type": "markdown",
   "metadata": {},
   "source": [
    "#### NOTE:\n",
    "Polarity is float which lies in the range of [-1,1] where 1 means positive statement and -1 means a negative statement. Subjective sentences generally refer to personal opinion, emotion or judgment whereas objective refers to factual information. Subjectivity is also a float which lies in the range of [0,1]. <br>\n",
    "**Hence a probable ADR must have low polarity and high subjectivity**"
   ]
  },
  {
   "cell_type": "code",
   "execution_count": 52,
   "metadata": {},
   "outputs": [
    {
     "data": {
      "image/png": "[encoded data removed]",
      "text/plain": [
       "<Figure size 432x288 with 2 Axes>"
      ]
     },
     "metadata": {
      "needs_background": "light"
     },
     "output_type": "display_data"
    }
   ],
   "source": [
    "# plotting the data\n",
    "plt.subplot(1,2,1)\n",
    "plt.hist(comment_polarities, bins=10)\n",
    "plt.title(\"comment polarity distribution\")\n",
    "plt.xlabel(\"polarity\")\n",
    "plt.ylabel(\"no.of comments\")\n",
    "\n",
    "plt.subplots_adjust(hspace=1, left=0.225, right=2, wspace=0.2)\n",
    "\n",
    "plt.subplot(1,2,2)\n",
    "plt.hist(comment_subjectivities, bins=10)\n",
    "plt.title(\"comment subjectivity distribution\")\n",
    "plt.xlabel(\"subjectivity\")\n",
    "plt.ylabel(\"no.of comments\")\n",
    "plt.show()"
   ]
  },
  {
   "cell_type": "code",
   "execution_count": 58,
   "metadata": {},
   "outputs": [],
   "source": [
    "# Create LF from sentiment analysis\n",
    "# 1 means postitive ADR 0 means not an ADR\n",
    "@labeling_function(pre=[textblob_sentiment])\n",
    "def textblob_polarity(x):\n",
    "    return 0 if x.polarity >=0.4 else 1"
   ]
  },
  {
   "cell_type": "code",
   "execution_count": 59,
   "metadata": {},
   "outputs": [],
   "source": [
    "@labeling_function(pre=[textblob_sentiment])\n",
    "def textblob_subjectivity(x):\n",
    "    return 1 if x.subjectivity >= 0.5 else 0"
   ]
  },
  {
   "cell_type": "markdown",
   "metadata": {},
   "source": [
    "## LF2: Based on Known ADRs - Distant Supervision\n",
    "Return 1 if ADR for the given drug is already known else return 0.<br>\n",
    "Use the preprocessing function from helpers.py"
   ]
  },
  {
   "cell_type": "code",
   "execution_count": null,
   "metadata": {},
   "outputs": [],
   "source": [
    "## @labeling_function()\n",
    "def distant_supervision(x):\n",
    "    \"\"\"\n",
    "    @params: type(x): str\n",
    "    return 1 if ADR is a known ADR and 0 if not known ADR\n",
    "    \"\"\"\n",
    "    # Preprocess the string\n",
    "    p = Preprocessing()\n",
    "    clean_text = p.custom_preprocessor(x)\n",
    "    for word in clean_text:\n",
    "        if word.capitalize() in drugs.keys():\n",
    "            known_adr = drugs[word]  # type(known_adr) should be list\n",
    "        else:\n",
    "            continue\n",
    "    if len(known_adr) != 0:\n",
    "        # check whether known ADRs are present\n",
    "        for x in clean_text:\n",
    "            \n",
    "    else:\n",
    "        return 0\n",
    "    "
   ]
  },
  {
   "cell_type": "code",
   "execution_count": 11,
   "metadata": {},
   "outputs": [
    {
     "name": "stdout",
     "output_type": "stream",
     "text": [
      "Abilify ['severe agitation, distress, or restless feeling', 'twitching or uncontrollable movements of your eyes, lips, tongue, face, arms, or legs', 'mask-like appearance of the face, trouble swallowing, problems with speech', 'seizure (convulsions)', 'thoughts about suicide or hurting yourself', 'severe nervous system reaction--very stiff (rigid) muscles, high fever, sweating, confusion, fast or uneven heartbeats, tremors, feeling like you might pass out', 'low blood cell counts--sudden weakness or ill feeling, fever, chills, sore throat, swollen gums, painful mouth sores, red or swollen gums, skin sores, cold or flu symptoms, cough, trouble breathing or', 'high blood sugar--increased thirst, increased urination, hunger, dry mouth, fruity breath odor, drowsiness, dry skin, weight loss']\n"
     ]
    }
   ],
   "source": [
    "for x in drugs.keys():\n",
    "    print(x,drugs[x])\n",
    "    break"
   ]
  },
  {
   "cell_type": "markdown",
   "metadata": {},
   "source": [
    "## LF3: Clustering with TF.IDF Vectorization and KNN \n",
    "In this LF(LF3), We implement non-hierarchial clustering with two or three clusters, we then have to use another LF(say LF2) to determine the cluster that has higher number of positive ADRs and the one with the lower/lowest number of positive ADRs."
   ]
  },
  {
   "cell_type": "code",
   "execution_count": 2,
   "metadata": {},
   "outputs": [],
   "source": [
    "from sklearn.feature_extraction.text import TfidfVectorizer\n",
    "from sklearn.cluster import KMeans\n",
    "from sklearn.metrics import adjusted_rand_score"
   ]
  },
  {
   "cell_type": "code",
   "execution_count": 3,
   "metadata": {},
   "outputs": [],
   "source": [
    "df = pd.read_csv(\"/Users/jarvis/Desktop/CODE/sadrat/sample/medications_dot_com_data.csv\")"
   ]
  },
  {
   "cell_type": "code",
   "execution_count": 17,
   "metadata": {},
   "outputs": [],
   "source": [
    "def clustering(x):\n",
    "    \"\"\"\n",
    "    @params: type(x): list of raw documents(list of strings)\n",
    "    \"\"\"\n",
    "    if len(x) == 0:\n",
    "        raise Exception(\"Size of input list should be greater than 0\")\n",
    "    \n",
    "    K = 3  # value of K in KNN\n",
    "    \n",
    "    # Preprocess documents(document is just another way of saying a sentence)\n",
    "    p = Preprocessing()\n",
    "    clean_corpus = list()\n",
    "    for doc in x:\n",
    "        if(type(doc) != str):\n",
    "            raise Exception(\"The input list must contain string datatype\")\n",
    "        clean_doc = p.simple_preprocessor_string(doc)\n",
    "        \n",
    "        #case when after preprocessing nothing remains in the string (useless document)\n",
    "        if clean_doc == \"\":\n",
    "            continue\n",
    "        else:\n",
    "            clean_corpus.append(clean_doc)\n",
    "        \n",
    "#     print(clean_corpus[1], type(clean_corpus[1]))\n",
    "    vectorizer = TfidfVectorizer()\n",
    "    X = vectorizer.fit_transform(clean_corpus)\n",
    "    model = KMeans(n_clusters=K, init='k-means++')\n",
    "    model.fit(X)\n",
    "    \n",
    "    print(\"Top terms per cluster:\")\n",
    "    order_centroids = model.cluster_centers_.argsort()[:, ::-1]\n",
    "    terms = vectorizer.get_feature_names()\n",
    "    for i in range(K):\n",
    "        print(\"Cluster %d:\" % i)\n",
    "        for ind in order_centroids[i, :10]:\n",
    "            print(terms[ind], end=\" \")\n",
    "        print(\"\\n\")\n"
   ]
  },
  {
   "cell_type": "code",
   "execution_count": 18,
   "metadata": {},
   "outputs": [
    {
     "name": "stdout",
     "output_type": "stream",
     "text": [
      "Top terms per cluster:\n",
      "Cluster 0:\n",
      "watches moncler oris tiffany collection edition jubile vintage iwc known \n",
      "\n",
      "Cluster 1:\n",
      "day days pain mg taking like side started time take \n",
      "\n",
      "Cluster 2:\n",
      "questran months years drug high diarrhea given would doctor ve \n",
      "\n"
     ]
    }
   ],
   "source": [
    "# Driver Code\n",
    "raw_corpus = list()\n",
    "for _, x in df.iterrows():\n",
    "    raw_corpus.append(x[\" comment\"])\n",
    "clustering(raw_corpus)"
   ]
  },
  {
   "cell_type": "code",
   "execution_count": null,
   "metadata": {},
   "outputs": [],
   "source": [
    "# Use the KNN model as labelling Function\n",
    "# TODO:\n",
    "# Identify which cluster represents an ADR better (Requires another LF)"
   ]
  }
 ],
 "metadata": {
  "kernelspec": {
   "display_name": "sadrat",
   "language": "python",
   "name": "sadrat"
  },
  "language_info": {
   "codemirror_mode": {
    "name": "ipython",
    "version": 3
   },
   "file_extension": ".py",
   "mimetype": "text/x-python",
   "name": "python",
   "nbconvert_exporter": "python",
   "pygments_lexer": "ipython3",
   "version": "3.7.2"
  }
 },
 "nbformat": 4,
 "nbformat_minor": 2
}
